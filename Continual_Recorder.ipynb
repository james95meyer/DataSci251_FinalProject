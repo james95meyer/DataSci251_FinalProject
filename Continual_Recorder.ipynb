{
 "cells": [
  {
   "cell_type": "code",
   "execution_count": null,
   "id": "a62dbfb4-9e9f-4524-9c8b-bb654c7521d1",
   "metadata": {},
   "outputs": [],
   "source": [
    "import pyaudio\n",
    "import wave\n",
    "import datetime\n",
    "import random"
   ]
  },
  {
   "cell_type": "code",
   "execution_count": null,
   "id": "50fdd477-e016-4140-b018-5593c7d9ed5f",
   "metadata": {},
   "outputs": [],
   "source": [
    "chunk = 1024  # Record in chunks of 1024 samples\n",
    "sample_format = pyaudio.paInt16  # 16 bits per sample\n",
    "channels = 1\n",
    "fs = 44100  # Record at 44100 samples per second\n",
    "seconds = 5"
   ]
  },
  {
   "cell_type": "code",
   "execution_count": null,
   "id": "30011611-41db-48b6-b99e-0969b13e5420",
   "metadata": {},
   "outputs": [],
   "source": [
    "p = pyaudio.PyAudio()  # Create an interface to PortAudio\n",
    "\n",
    "print('Recording')\n",
    "\n",
    "stream = p.open(format=sample_format,\n",
    "                channels=channels,\n",
    "                rate=fs,\n",
    "                frames_per_buffer=chunk,\n",
    "                input=True)\n",
    "\n",
    "# Store data in chunks for 5 seconds\n",
    "while True:\n",
    "    frames = [] # Initialize array to store frames\n",
    "    for i in range(0, int(fs / chunk * seconds)):\n",
    "        data = stream.read(chunk)\n",
    "        frames.append(data)\n",
    "    print(len(frames))\n",
    "    timestamp = datetime.datetime.now().strftime(\"%H%M%S\")\n",
    "    filename = \"audio_\" + timestamp + \".wav\"\n",
    "    wf = wave.open(filename, 'wb')\n",
    "    wf.setnchannels(channels)\n",
    "    wf.setsampwidth(2)\n",
    "    wf.setframerate(fs)\n",
    "    wf.writeframes(b''.join(frames))\n",
    "    wf.close()\n",
    "    print(\"Recording saved\")\n",
    "\n",
    "# Stop and close the stream \n",
    "#stream.stop_stream()\n",
    "#stream.close()\n",
    "# Terminate the PortAudio interface\n",
    "#p.terminate()\n",
    "\n",
    "#print('Finished recording')\n",
    "\n",
    "# Save the recorded data as a WAV file\n"
   ]
  }
 ],
 "metadata": {
  "kernelspec": {
   "display_name": "Python 3 (ipykernel)",
   "language": "python",
   "name": "python3"
  },
  "language_info": {
   "codemirror_mode": {
    "name": "ipython",
    "version": 3
   },
   "file_extension": ".py",
   "mimetype": "text/x-python",
   "name": "python",
   "nbconvert_exporter": "python",
   "pygments_lexer": "ipython3",
   "version": "3.9.7"
  }
 },
 "nbformat": 4,
 "nbformat_minor": 5
}
