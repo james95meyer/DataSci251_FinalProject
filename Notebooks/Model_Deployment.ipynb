{
 "cells": [
  {
   "cell_type": "code",
   "execution_count": 1,
   "id": "683bf57a-8958-43d3-aa84-13c97dddb34a",
   "metadata": {},
   "outputs": [],
   "source": [
    "import os\n",
    "import random\n",
    "import math\n",
    "import shutil\n",
    "import time\n",
    "import warnings\n",
    "import soundfile\n",
    "\n",
    "import torch\n",
    "import torch.nn as nn\n",
    "import torch.backends.cudnn as cudnn\n",
    "import torch.optim\n",
    "\n",
    "import torch.utils.data\n",
    "import torchaudio\n",
    "from torchaudio import transforms\n",
    "from IPython.display import Audio\n",
    "\n",
    "torchaudio.set_audio_backend('soundfile')"
   ]
  },
  {
   "cell_type": "code",
   "execution_count": 4,
   "id": "033c7945-d939-4f87-87de-f20b517ca48f",
   "metadata": {},
   "outputs": [
    {
     "data": {
      "text/plain": [
       "RecursiveScriptModule(\n",
       "  original_name=AudioClassifier\n",
       "  (conv1): RecursiveScriptModule(original_name=Conv2d)\n",
       "  (relu1): RecursiveScriptModule(original_name=ReLU)\n",
       "  (bn1): RecursiveScriptModule(original_name=BatchNorm2d)\n",
       "  (conv2): RecursiveScriptModule(original_name=Conv2d)\n",
       "  (relu2): RecursiveScriptModule(original_name=ReLU)\n",
       "  (bn2): RecursiveScriptModule(original_name=BatchNorm2d)\n",
       "  (conv3): RecursiveScriptModule(original_name=Conv2d)\n",
       "  (relu3): RecursiveScriptModule(original_name=ReLU)\n",
       "  (bn3): RecursiveScriptModule(original_name=BatchNorm2d)\n",
       "  (conv4): RecursiveScriptModule(original_name=Conv2d)\n",
       "  (relu4): RecursiveScriptModule(original_name=ReLU)\n",
       "  (bn4): RecursiveScriptModule(original_name=BatchNorm2d)\n",
       "  (ap): RecursiveScriptModule(original_name=AdaptiveAvgPool2d)\n",
       "  (lin): RecursiveScriptModule(original_name=Linear)\n",
       "  (conv): RecursiveScriptModule(\n",
       "    original_name=Sequential\n",
       "    (0): RecursiveScriptModule(original_name=Conv2d)\n",
       "    (1): RecursiveScriptModule(original_name=ReLU)\n",
       "    (2): RecursiveScriptModule(original_name=BatchNorm2d)\n",
       "    (3): RecursiveScriptModule(original_name=Conv2d)\n",
       "    (4): RecursiveScriptModule(original_name=ReLU)\n",
       "    (5): RecursiveScriptModule(original_name=BatchNorm2d)\n",
       "    (6): RecursiveScriptModule(original_name=Conv2d)\n",
       "    (7): RecursiveScriptModule(original_name=ReLU)\n",
       "    (8): RecursiveScriptModule(original_name=BatchNorm2d)\n",
       "    (9): RecursiveScriptModule(original_name=Conv2d)\n",
       "    (10): RecursiveScriptModule(original_name=ReLU)\n",
       "    (11): RecursiveScriptModule(original_name=BatchNorm2d)\n",
       "  )\n",
       ")"
      ]
     },
     "execution_count": 4,
     "metadata": {},
     "output_type": "execute_result"
    }
   ],
   "source": [
    "model = torch.jit.load('model_export.pt')\n",
    "model.eval()"
   ]
  },
  {
   "cell_type": "code",
   "execution_count": 52,
   "id": "e2c6d102-1bfb-48c8-a834-ec62ff39b1d9",
   "metadata": {},
   "outputs": [
    {
     "data": {
      "text/plain": [
       "19"
      ]
     },
     "execution_count": 52,
     "metadata": {},
     "output_type": "execute_result"
    }
   ],
   "source": [
    "# Code to recieve a prediction from the model based on a single audio file\n",
    "with torch.no_grad():\n",
    "    \n",
    "    # Load an audiofile \n",
    "    data, sr = torchaudio.load(\"audio_211116.wav\")\n",
    "\n",
    "    # Resample to two channels\n",
    "    data = torch.cat([data, data])\n",
    "\n",
    "    # Generate a Spectogram from the audio file\n",
    "    data = transforms.MelSpectrogram(sr, n_fft=1024, hop_length=None, n_mels=64)(data)\n",
    "    data = transforms.AmplitudeToDB(top_db=80)(data)\n",
    "    \n",
    "    # Normalize the values\n",
    "    data_m, data_s = data.mean(), data.std()\n",
    "    data = (data - data_m) / data_s\n",
    "    \n",
    "    # Add additional dimension to tensor in order to feed into the model\n",
    "    data = inputs[None]\n",
    "    \n",
    "    # Receive a prediction from the model\n",
    "    outputs = model(data)\n",
    "    _, prediction = torch.max(outputs,1)\n",
    "    prediction = int(prediction)\n",
    "    \n",
    "prediction"
   ]
  }
 ],
 "metadata": {
  "kernelspec": {
   "display_name": "Python 3 (ipykernel)",
   "language": "python",
   "name": "python3"
  },
  "language_info": {
   "codemirror_mode": {
    "name": "ipython",
    "version": 3
   },
   "file_extension": ".py",
   "mimetype": "text/x-python",
   "name": "python",
   "nbconvert_exporter": "python",
   "pygments_lexer": "ipython3",
   "version": "3.9.7"
  }
 },
 "nbformat": 4,
 "nbformat_minor": 5
}
